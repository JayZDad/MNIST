{
 "cells": [
  {
   "cell_type": "code",
   "execution_count": 197,
   "metadata": {},
   "outputs": [],
   "source": [
    "import math\n",
    "import numpy as np\n",
    "import matplotlib.pyplot as plt\n",
    "import pickle\n",
    "from pathlib import Path\n",
    "import struct\n",
    "import copy\n",
    "from tqdm import tqdm\n",
    "from PIL import Image"
   ]
  },
  {
   "cell_type": "markdown",
   "metadata": {},
   "source": [
    "# 模型训练"
   ]
  },
  {
   "cell_type": "code",
   "execution_count": 3,
   "metadata": {},
   "outputs": [],
   "source": [
    "#激活函数\n",
    "def tanh(x):\n",
    "    return np.tanh(x)\n",
    "def softmax(x):\n",
    "    exp=np.exp(x-x.max())\n",
    "    return exp/exp.sum()"
   ]
  },
  {
   "cell_type": "code",
   "execution_count": 4,
   "metadata": {},
   "outputs": [],
   "source": [
    "#构建网络类\n",
    "class Net():\n",
    "    def __init__(self,dimensions,distribution,activation,parameters=[]):\n",
    "        self.dimensions = dimensions\n",
    "        self.distribution = distribution\n",
    "        self.parameters = parameters\n",
    "        self.activation = activation\n",
    "        \n",
    "    def init_parameters_b(self,layer):\n",
    "        dist=self.distribution[layer]['b']\n",
    "        return np.random.rand(self.dimensions[layer])*(dist[1]-dist[0])+dist[0]\n",
    "    \n",
    "    def init_parameters_w(self,layer):\n",
    "        dist=self.distribution[layer]['w']\n",
    "        return np.random.rand(self.dimensions[layer-1],self.dimensions[layer])*(dist[1]-dist[0])+dist[0]\n",
    "    \n",
    "    def init_parameters(self):\n",
    "        for i in range(len(self.distribution)):\n",
    "            layer_parameter={}\n",
    "            for j in self.distribution[i].keys():\n",
    "                if j=='b':\n",
    "                    layer_parameter['b']=self.init_parameters_b(i)\n",
    "                    continue\n",
    "                if j=='w':\n",
    "                    layer_parameter['w']=self.init_parameters_w(i)\n",
    "                    continue\n",
    "            self.parameters.append(layer_parameter)\n",
    "        return self.parameters\n",
    "    \n",
    "    def forward(self,img):\n",
    "        A1=img+self.parameters[0]['b']\n",
    "        Z1=self.activation[0](A1)\n",
    "        A2=np.dot(Z1,self.parameters[1]['w'])+self.parameters[1]['b']\n",
    "        Z2=self.activation[0](A2)\n",
    "        A3=np.dot(Z2,self.parameters[2]['w'])+self.parameters[2]['b']\n",
    "        Z3 = self.activation[1](A3)\n",
    "        return Z3"
   ]
  },
  {
   "cell_type": "code",
   "execution_count": 5,
   "metadata": {},
   "outputs": [],
   "source": [
    "#读取数据集\n",
    "dataset_path=Path('./mnist')\n",
    "train_img_path=dataset_path/'train-images-idx3-ubyte'\n",
    "train_lab_path=dataset_path/'train-labels-idx1-ubyte'\n",
    "test_img_path=dataset_path/'t10k-images-idx3-ubyte'\n",
    "test_lab_path=dataset_path/'t10k-labels-idx1-ubyte'\n",
    "train_num=50000\n",
    "valid_num=10000\n",
    "test_num=10000"
   ]
  },
  {
   "cell_type": "code",
   "execution_count": 6,
   "metadata": {},
   "outputs": [],
   "source": [
    "with open(train_img_path,'rb') as f:\n",
    "    struct.unpack('>4i',f.read(16))\n",
    "    tmp_img=np.fromfile(f,dtype=np.uint8).reshape(-1,28*28)/255\n",
    "    train_img=tmp_img[:train_num]\n",
    "    valid_img=tmp_img[train_num:]\n",
    "    \n",
    "with open(test_img_path,'rb') as f:\n",
    "    struct.unpack('>4i',f.read(16))\n",
    "    test_img=np.fromfile(f,dtype=np.uint8).reshape(-1,28*28)/255\n",
    "\n",
    "with open(train_lab_path,'rb') as f:\n",
    "    struct.unpack('>2i',f.read(8))\n",
    "    tmp_lab=np.fromfile(f,dtype=np.uint8)\n",
    "    train_lab=tmp_lab[:train_num]\n",
    "    valid_lab=tmp_lab[train_num:]\n",
    "    \n",
    "with open(test_lab_path,'rb') as f:\n",
    "    struct.unpack('>2i',f.read(8))\n",
    "    test_lab=np.fromfile(f,dtype=np.uint8)"
   ]
  },
  {
   "cell_type": "code",
   "execution_count": 7,
   "metadata": {},
   "outputs": [],
   "source": [
    "#可视化手写字体\n",
    "def show_train(index):\n",
    "    plt.imshow(train_img[index].reshape(28,28),cmap='gray')\n",
    "    print('label : {}'.format(train_lab[index]))\n",
    "def show_valid(index):\n",
    "    plt.imshow(valid_img[index].reshape(28,28),cmap='gray')\n",
    "    print('label : {}'.format(valid_lab[index]))\n",
    "def show_test(index):\n",
    "    plt.imshow(test_img[index].reshape(28,28),cmap='gray')\n",
    "    print('label : {}'.format(test_lab[index]))"
   ]
  },
  {
   "cell_type": "code",
   "execution_count": 8,
   "metadata": {},
   "outputs": [
    {
     "name": "stdout",
     "output_type": "stream",
     "text": [
      "label : 3\n"
     ]
    },
    {
     "data": {
      "image/png": "[encoded data removed]",
      "text/plain": [
       "<Figure size 432x288 with 1 Axes>"
      ]
     },
     "metadata": {},
     "output_type": "display_data"
    }
   ],
   "source": [
    "#测试show_train\n",
    "show_train(np.random.randint(train_num))"
   ]
  },
  {
   "cell_type": "code",
   "execution_count": 9,
   "metadata": {},
   "outputs": [
    {
     "name": "stdout",
     "output_type": "stream",
     "text": [
      "label : 8\n"
     ]
    },
    {
     "data": {
      "image/png": "[encoded data removed]",
      "text/plain": [
       "<Figure size 432x288 with 1 Axes>"
      ]
     },
     "metadata": {},
     "output_type": "display_data"
    }
   ],
   "source": [
    "#测试show_test\n",
    "show_test(np.random.randint(test_num))"
   ]
  },
  {
   "cell_type": "code",
   "execution_count": 10,
   "metadata": {},
   "outputs": [],
   "source": [
    "#定义两个激活函数的导数\n",
    "def d_softmax(data):\n",
    "    sm=softmax(data)\n",
    "    return np.diag(sm)-np.outer(sm,sm)\n",
    "\n",
    "def d_tanh(data):\n",
    "    return 1/(np.cosh(data))**2"
   ]
  },
  {
   "cell_type": "code",
   "execution_count": 11,
   "metadata": {},
   "outputs": [],
   "source": [
    "#定义损失函数\n",
    "def sqr_loss(img,lab):\n",
    "    y_pred=net.forward(img)\n",
    "    y=onehot[lab]\n",
    "    diff=y-y_pred\n",
    "    return np.dot(diff,diff)"
   ]
  },
  {
   "cell_type": "code",
   "execution_count": 12,
   "metadata": {},
   "outputs": [],
   "source": [
    "#SGD,对每个样本都计算梯度,lambd为L2正则化参数\n",
    "def backward(img,lab,parameters,lambd):\n",
    "    A1=img+parameters[0]['b']\n",
    "    Z1=activation[0](A1)\n",
    "    A2=np.dot(Z1,parameters[1]['w'])+parameters[1]['b']\n",
    "    Z2=activation[0](A2)\n",
    "    A3=np.dot(Z2,parameters[2]['w'])+parameters[2]['b']\n",
    "    Z3=activation[1](A3)\n",
    "    \n",
    "    diff=onehot[lab]-Z3\n",
    "    act3 = np.dot(differential[activation[1]](A3),diff)#损失对A3的梯度\n",
    "    act2 = differential[activation[0]](A2)*np.dot(parameters[2]['w'],act3)#损失对A2的梯度\n",
    "    act1 = differential[activation[0]](A1)*np.dot(parameters[1]['w'],act2)#损失对A1的梯度\n",
    "    grad_b2=-2*act3+2*lambd*parameters[2]['b']\n",
    "    grad_w2=-2*np.outer(Z2,act3)+ lambd*parameters[2]['w']\n",
    "    grad_b1=-2*act2+2*lambd*parameters[1]['b']\n",
    "    grad_w1=-2*np.outer(Z1,act2)+ lambd*parameters[1]['w']\n",
    "    grad_b0=-2*act1+ lambd*parameters[0]['b']\n",
    "    \n",
    "    return {'w2':grad_w2,'b2':grad_b2,'w1':grad_w1,'b1':grad_b1,'b0':grad_b0}"
   ]
  },
  {
   "cell_type": "code",
   "execution_count": 13,
   "metadata": {},
   "outputs": [],
   "source": [
    "def valid_loss(parameters):\n",
    "    loss_accu=0\n",
    "    for img_i in range(valid_num):\n",
    "        loss_accu+=sqr_loss(valid_img[img_i],valid_lab[img_i])\n",
    "    return loss_accu/(valid_num/10000)\n",
    "def valid_accuracy(parameters):\n",
    "    correctlist=[net.forward(valid_img[img_i]).argmax()==valid_lab[img_i] for img_i in range(valid_num)]\n",
    "    return correctlist.count(True)/len(correctlist)\n",
    "def train_loss(parameters):\n",
    "    loss_accu=0\n",
    "    for img_i in range(train_num):\n",
    "        loss_accu+=sqr_loss(train_img[img_i],train_lab[img_i])\n",
    "    return loss_accu/(train_num/10000)\n",
    "def train_accuracy(parameters):\n",
    "    correctlist=[net.forward(train_img[img_i]).argmax()==train_lab[img_i] for img_i in range(train_num)]\n",
    "    return correctlist.count(True)/len(correctlist)"
   ]
  },
  {
   "cell_type": "code",
   "execution_count": 14,
   "metadata": {},
   "outputs": [],
   "source": [
    "#计算梯度\n",
    "def train_batch(current_batch,parameters,lambd):\n",
    "    grad_accu=backward(train_img[current_batch*batch_size+0],train_lab[current_batch*batch_size+0],parameters,lambd)\n",
    "    for img_i in range(1,batch_size):\n",
    "        grad_tmp=backward(train_img[current_batch*batch_size+img_i],train_lab[current_batch*batch_size+img_i],parameters,lambd)\n",
    "        for key in grad_accu.keys():\n",
    "            grad_accu[key]+=grad_tmp[key]\n",
    "    for key in grad_accu.keys():\n",
    "        grad_accu[key]/=batch_size\n",
    "    return grad_accu"
   ]
  },
  {
   "cell_type": "code",
   "execution_count": 15,
   "metadata": {},
   "outputs": [],
   "source": [
    "#参数更新\n",
    "def update_parameters(parameters,grad,learn_rate):\n",
    "    parameter_tmp=copy.deepcopy(parameters)\n",
    "    parameter_tmp[0]['b']-=learn_rate*grad['b0']\n",
    "    parameter_tmp[1]['b']-=learn_rate*grad['b1']\n",
    "    parameter_tmp[1]['w']-=learn_rate*grad['w1']\n",
    "    parameter_tmp[2]['b']-=learn_rate*grad['b2']\n",
    "    parameter_tmp[2]['w']-=learn_rate*grad['w2']\n",
    "    return parameter_tmp"
   ]
  },
  {
   "cell_type": "code",
   "execution_count": 16,
   "metadata": {},
   "outputs": [],
   "source": [
    "#学习率下降策略，加速收敛\n",
    "def decay_lr(lr):\n",
    "    if train_acscore>0.9:\n",
    "        lr = lr/1.2\n",
    "    elif train_acscore>0.7:\n",
    "        lr = lr/1.1\n",
    "    elif train_acscore>0.5:\n",
    "        lr-=0.02\n",
    "    return lr"
   ]
  },
  {
   "cell_type": "code",
   "execution_count": 17,
   "metadata": {},
   "outputs": [],
   "source": [
    "#保存模型\n",
    "def save_model(name,parameters):\n",
    "    model_prameters_name = name+'.pkl'\n",
    "    f = open(model_prameters_name, 'wb')\n",
    "    pickle.dump(parameters, f)\n",
    "    f.close()"
   ]
  },
  {
   "cell_type": "code",
   "execution_count": 18,
   "metadata": {},
   "outputs": [],
   "source": [
    "current_epoch=0\n",
    "train_loss_list=[]\n",
    "valid_loss_list=[]\n",
    "train_accu_list=[]\n",
    "valid_accu_list=[]"
   ]
  },
  {
   "cell_type": "code",
   "execution_count": 68,
   "metadata": {},
   "outputs": [
    {
     "name": "stderr",
     "output_type": "stream",
     "text": [
      "\r",
      "  0%|          | 0/5 [00:00<?, ?it/s]"
     ]
    },
    {
     "name": "stdout",
     "output_type": "stream",
     "text": [
      "running batch 100/500\n",
      "running batch 200/500\n",
      "running batch 300/500\n",
      "running batch 400/500\n",
      "running batch 500/500\n",
      "acc on train 0.87574, on valid 0.8933\n"
     ]
    },
    {
     "name": "stderr",
     "output_type": "stream",
     "text": [
      "\r",
      " 20%|██        | 1/5 [00:49<03:19, 49.89s/it]"
     ]
    },
    {
     "name": "stdout",
     "output_type": "stream",
     "text": [
      "running batch 100/500\n",
      "running batch 200/500\n",
      "running batch 300/500\n",
      "running batch 400/500\n",
      "running batch 500/500\n",
      "acc on train 0.8802, on valid 0.8974\n"
     ]
    },
    {
     "name": "stderr",
     "output_type": "stream",
     "text": [
      "\r",
      " 40%|████      | 2/5 [01:39<02:28, 49.66s/it]"
     ]
    },
    {
     "name": "stdout",
     "output_type": "stream",
     "text": [
      "running batch 100/500\n",
      "running batch 200/500\n",
      "running batch 300/500\n",
      "running batch 400/500\n",
      "running batch 500/500\n",
      "acc on train 0.88114, on valid 0.8984\n"
     ]
    },
    {
     "name": "stderr",
     "output_type": "stream",
     "text": [
      "\r",
      " 60%|██████    | 3/5 [02:28<01:39, 49.51s/it]"
     ]
    },
    {
     "name": "stdout",
     "output_type": "stream",
     "text": [
      "running batch 100/500\n",
      "running batch 200/500\n",
      "running batch 300/500\n",
      "running batch 400/500\n",
      "running batch 500/500\n",
      "acc on train 0.88148, on valid 0.8982\n"
     ]
    },
    {
     "name": "stderr",
     "output_type": "stream",
     "text": [
      "\r",
      " 80%|████████  | 4/5 [03:17<00:49, 49.34s/it]"
     ]
    },
    {
     "name": "stdout",
     "output_type": "stream",
     "text": [
      "running batch 100/500\n",
      "running batch 200/500\n",
      "running batch 300/500\n",
      "running batch 400/500\n",
      "running batch 500/500\n",
      "acc on train 0.88224, on valid 0.8987\n"
     ]
    },
    {
     "name": "stderr",
     "output_type": "stream",
     "text": [
      "100%|██████████| 5/5 [04:06<00:00, 49.35s/it]\n"
     ]
    }
   ],
   "source": [
    "#启动训练\n",
    "differential={softmax:d_softmax,tanh:d_tanh}\n",
    "onehot=np.identity(10)\n",
    "\n",
    "#超参数\n",
    "lr=0.25\n",
    "epoch_num=10\n",
    "lambd = 0.02\n",
    "batch_size=100\n",
    "\n",
    "train_acscore,valid_maxs = 0,0\n",
    "#网络结构\n",
    "\n",
    "dimensions=[28*28,100,10]\n",
    "activation=[tanh,softmax]\n",
    "distribution=[\n",
    "    {'b':[0,0]},\n",
    "    {'b':[0,0],'w':[-1,1]},\n",
    "    {'b':[0,0],'w':[-1,1]}\n",
    "]\n",
    "\n",
    "net = Net(dimensions,distribution,activation,[])\n",
    "net.init_parameters()\n",
    "for epoch_ in tqdm(range(epoch_num)):\n",
    "    lr = decay_lr(lr)\n",
    "    for i in range(train_num//batch_size):\n",
    "        if i%100==99:\n",
    "            print('running batch {}/{}'.format(i+1,train_num//batch_size))\n",
    "        grad_tmp = []\n",
    "        grad_tmp=train_batch(i,net.parameters,lambd)\n",
    "        net.parameters=update_parameters(net.parameters,grad_tmp,lr)\n",
    "    current_epoch+=1\n",
    "    train_acscore = train_accuracy(net.parameters)\n",
    "    valid_acscore = valid_accuracy(net.parameters)\n",
    "    print('acc on train {}, on valid {}'.format(train_acscore,valid_acscore))\n",
    "    if valid_acscore>valid_maxs:\n",
    "        save_model('Best_model',net.parameters) #保存验证集上表现最好的模型\n",
    "        valid_maxs = valid_acscore\n",
    "    train_loss_list.append(train_loss(net.parameters))\n",
    "    train_accu_list.append(train_acscore)\n",
    "    valid_loss_list.append(valid_loss(net.parameters))\n",
    "    valid_accu_list.append(valid_acscore)"
   ]
  },
  {
   "cell_type": "code",
   "execution_count": 69,
   "metadata": {},
   "outputs": [
    {
     "data": {
      "image/png": "[encoded data removed]",
      "text/plain": [
       "<Figure size 432x288 with 1 Axes>"
      ]
     },
     "metadata": {},
     "output_type": "display_data"
    }
   ],
   "source": [
    "#可视化acc\n",
    "plt.clf()\n",
    "plt.plot(valid_accu_list, c='g', label='Validation Acc',linestyle = '-.')\n",
    "plt.plot(train_accu_list, c='b', label='Train Acc',linestyle = '-.')\n",
    "plt.legend()\n",
    "plt.suptitle('Accuracy', fontsize=16, fontweight='bold')\n",
    "plt.style.use('seaborn-darkgrid')\n",
    "plt.xlabel('Epoch')\n",
    "plt.ylabel('Accuracy')\n",
    "plt.savefig('acc.png',dpi = 200)"
   ]
  },
  {
   "cell_type": "code",
   "execution_count": 70,
   "metadata": {},
   "outputs": [
    {
     "data": {
      "text/plain": [
       "<Figure size 432x288 with 0 Axes>"
      ]
     },
     "metadata": {},
     "output_type": "display_data"
    },
    {
     "data": {
      "image/png": "[encoded data removed]",
      "text/plain": [
       "<Figure size 720x432 with 1 Axes>"
      ]
     },
     "metadata": {},
     "output_type": "display_data"
    }
   ],
   "source": [
    "#可视化acc\n",
    "plt.clf()\n",
    "plt.figure(figsize=(10, 6))\n",
    "plt.plot(valid_loss_list, c='g', label='Validation Loss',linestyle = '-.')\n",
    "plt.plot(train_loss_list, c='b', label='Train Loss',linestyle = '-.')\n",
    "plt.legend()\n",
    "plt.suptitle('Loss', fontsize=16, fontweight='bold')\n",
    "plt.style.use('seaborn-darkgrid')\n",
    "plt.xlabel('Epoch')\n",
    "plt.ylabel('Loss')\n",
    "plt.savefig('loss.png',dpi = 200)"
   ]
  },
  {
   "cell_type": "code",
   "execution_count": 103,
   "metadata": {},
   "outputs": [
    {
     "data": {
      "text/plain": [
       "<function BufferedReader.close>"
      ]
     },
     "execution_count": 103,
     "metadata": {},
     "output_type": "execute_result"
    }
   ],
   "source": [
    "#用于测试模型测试集上表现\n",
    "f = open('Best_model.pkl', 'rb') #加载最优模型\n",
    "param = pickle.load(f)\n",
    "f.close"
   ]
  },
  {
   "cell_type": "code",
   "execution_count": 105,
   "metadata": {},
   "outputs": [
    {
     "name": "stdout",
     "output_type": "stream",
     "text": [
      "label : 5\n",
      "predict:5\n"
     ]
    },
    {
     "data": {
      "image/png": "[encoded data removed]",
      "text/plain": [
       "<Figure size 432x288 with 1 Axes>"
      ]
     },
     "metadata": {},
     "output_type": "display_data"
    }
   ],
   "source": [
    "test_index = np.random.randint(1000)\n",
    "show_test(test_index)\n",
    "predict_result = forward(test_img[test_index], param)\n",
    "print(\"predict:{}\".format(predict_result.argmax()))"
   ]
  },
  {
   "cell_type": "markdown",
   "metadata": {},
   "source": [
    "# 网格搜索超参数"
   ]
  },
  {
   "cell_type": "code",
   "execution_count": 53,
   "metadata": {},
   "outputs": [
    {
     "name": "stderr",
     "output_type": "stream",
     "text": [
      "\r",
      "  0%|          | 0/5 [00:00<?, ?it/s]"
     ]
    },
    {
     "name": "stdout",
     "output_type": "stream",
     "text": [
      "running batch 100/500, current strategy strategy1\n",
      "running batch 200/500, current strategy strategy1\n",
      "running batch 300/500, current strategy strategy1\n",
      "running batch 400/500, current strategy strategy1\n",
      "running batch 500/500, current strategy strategy1\n"
     ]
    },
    {
     "name": "stderr",
     "output_type": "stream",
     "text": [
      "\r",
      " 20%|██        | 1/5 [01:34<06:19, 94.84s/it]"
     ]
    },
    {
     "name": "stdout",
     "output_type": "stream",
     "text": [
      "acc on train 0.69486, on valid 0.7063\n",
      "running batch 100/500, current strategy strategy1\n",
      "running batch 200/500, current strategy strategy1\n",
      "running batch 300/500, current strategy strategy1\n",
      "running batch 400/500, current strategy strategy1\n",
      "running batch 500/500, current strategy strategy1\n"
     ]
    },
    {
     "name": "stderr",
     "output_type": "stream",
     "text": [
      "\r",
      " 40%|████      | 2/5 [03:09<04:43, 94.65s/it]"
     ]
    },
    {
     "name": "stdout",
     "output_type": "stream",
     "text": [
      "acc on train 0.8395, on valid 0.8461\n",
      "running batch 100/500, current strategy strategy1\n",
      "running batch 200/500, current strategy strategy1\n",
      "running batch 300/500, current strategy strategy1\n",
      "running batch 400/500, current strategy strategy1\n",
      "running batch 500/500, current strategy strategy1\n"
     ]
    },
    {
     "name": "stderr",
     "output_type": "stream",
     "text": [
      "\r",
      " 60%|██████    | 3/5 [04:44<03:09, 94.66s/it]"
     ]
    },
    {
     "name": "stdout",
     "output_type": "stream",
     "text": [
      "acc on train 0.90686, on valid 0.9147\n",
      "running batch 100/500, current strategy strategy1\n",
      "running batch 200/500, current strategy strategy1\n",
      "running batch 300/500, current strategy strategy1\n",
      "running batch 400/500, current strategy strategy1\n",
      "running batch 500/500, current strategy strategy1\n"
     ]
    },
    {
     "name": "stderr",
     "output_type": "stream",
     "text": [
      "\r",
      " 80%|████████  | 4/5 [06:18<01:34, 94.58s/it]"
     ]
    },
    {
     "name": "stdout",
     "output_type": "stream",
     "text": [
      "acc on train 0.91596, on valid 0.9223\n",
      "running batch 100/500, current strategy strategy1\n",
      "running batch 200/500, current strategy strategy1\n",
      "running batch 300/500, current strategy strategy1\n",
      "running batch 400/500, current strategy strategy1\n",
      "running batch 500/500, current strategy strategy1\n"
     ]
    },
    {
     "name": "stderr",
     "output_type": "stream",
     "text": [
      "100%|██████████| 5/5 [07:52<00:00, 94.60s/it]\n"
     ]
    },
    {
     "name": "stdout",
     "output_type": "stream",
     "text": [
      "acc on train 0.91638, on valid 0.9229\n"
     ]
    },
    {
     "name": "stderr",
     "output_type": "stream",
     "text": [
      "\r",
      "  0%|          | 0/5 [00:00<?, ?it/s]"
     ]
    },
    {
     "name": "stdout",
     "output_type": "stream",
     "text": [
      "running batch 100/500, current strategy strategy2\n",
      "running batch 200/500, current strategy strategy2\n",
      "running batch 300/500, current strategy strategy2\n",
      "running batch 400/500, current strategy strategy2\n",
      "running batch 500/500, current strategy strategy2\n"
     ]
    },
    {
     "name": "stderr",
     "output_type": "stream",
     "text": [
      "\r",
      " 20%|██        | 1/5 [01:07<04:28, 67.14s/it]"
     ]
    },
    {
     "name": "stdout",
     "output_type": "stream",
     "text": [
      "acc on train 0.66598, on valid 0.6741\n",
      "running batch 100/500, current strategy strategy2\n",
      "running batch 200/500, current strategy strategy2\n",
      "running batch 300/500, current strategy strategy2\n",
      "running batch 400/500, current strategy strategy2\n",
      "running batch 500/500, current strategy strategy2\n"
     ]
    },
    {
     "name": "stderr",
     "output_type": "stream",
     "text": [
      "\r",
      " 40%|████      | 2/5 [02:14<03:22, 67.45s/it]"
     ]
    },
    {
     "name": "stdout",
     "output_type": "stream",
     "text": [
      "acc on train 0.80304, on valid 0.8181\n",
      "running batch 100/500, current strategy strategy2\n",
      "running batch 200/500, current strategy strategy2\n",
      "running batch 300/500, current strategy strategy2\n",
      "running batch 400/500, current strategy strategy2\n",
      "running batch 500/500, current strategy strategy2\n"
     ]
    },
    {
     "name": "stderr",
     "output_type": "stream",
     "text": [
      "\r",
      " 60%|██████    | 3/5 [03:22<02:15, 67.68s/it]"
     ]
    },
    {
     "name": "stdout",
     "output_type": "stream",
     "text": [
      "acc on train 0.90268, on valid 0.9151\n",
      "running batch 100/500, current strategy strategy2\n",
      "running batch 200/500, current strategy strategy2\n",
      "running batch 300/500, current strategy strategy2\n",
      "running batch 400/500, current strategy strategy2\n",
      "running batch 500/500, current strategy strategy2\n"
     ]
    },
    {
     "name": "stderr",
     "output_type": "stream",
     "text": [
      "\r",
      " 80%|████████  | 4/5 [04:30<01:07, 67.81s/it]"
     ]
    },
    {
     "name": "stdout",
     "output_type": "stream",
     "text": [
      "acc on train 0.90164, on valid 0.9133\n",
      "running batch 100/500, current strategy strategy2\n",
      "running batch 200/500, current strategy strategy2\n",
      "running batch 300/500, current strategy strategy2\n",
      "running batch 400/500, current strategy strategy2\n",
      "running batch 500/500, current strategy strategy2\n"
     ]
    },
    {
     "name": "stderr",
     "output_type": "stream",
     "text": [
      "100%|██████████| 5/5 [05:38<00:00, 67.69s/it]\n"
     ]
    },
    {
     "name": "stdout",
     "output_type": "stream",
     "text": [
      "acc on train 0.90044, on valid 0.9127\n"
     ]
    },
    {
     "name": "stderr",
     "output_type": "stream",
     "text": [
      "\r",
      "  0%|          | 0/5 [00:00<?, ?it/s]"
     ]
    },
    {
     "name": "stdout",
     "output_type": "stream",
     "text": [
      "running batch 100/500, current strategy strategy3\n",
      "running batch 200/500, current strategy strategy3\n",
      "running batch 300/500, current strategy strategy3\n",
      "running batch 400/500, current strategy strategy3\n",
      "running batch 500/500, current strategy strategy3\n"
     ]
    },
    {
     "name": "stderr",
     "output_type": "stream",
     "text": [
      "\r",
      " 20%|██        | 1/5 [00:45<03:01, 45.48s/it]"
     ]
    },
    {
     "name": "stdout",
     "output_type": "stream",
     "text": [
      "acc on train 0.8385, on valid 0.8562\n",
      "running batch 100/500, current strategy strategy3\n",
      "running batch 200/500, current strategy strategy3\n",
      "running batch 300/500, current strategy strategy3\n",
      "running batch 400/500, current strategy strategy3\n",
      "running batch 500/500, current strategy strategy3\n"
     ]
    },
    {
     "name": "stderr",
     "output_type": "stream",
     "text": [
      "\r",
      " 40%|████      | 2/5 [01:31<02:16, 45.63s/it]"
     ]
    },
    {
     "name": "stdout",
     "output_type": "stream",
     "text": [
      "acc on train 0.88026, on valid 0.8949\n",
      "running batch 100/500, current strategy strategy3\n",
      "running batch 200/500, current strategy strategy3\n",
      "running batch 300/500, current strategy strategy3\n",
      "running batch 400/500, current strategy strategy3\n",
      "running batch 500/500, current strategy strategy3\n"
     ]
    },
    {
     "name": "stderr",
     "output_type": "stream",
     "text": [
      "\r",
      " 60%|██████    | 3/5 [02:16<01:31, 45.55s/it]"
     ]
    },
    {
     "name": "stdout",
     "output_type": "stream",
     "text": [
      "acc on train 0.88208, on valid 0.8981\n",
      "running batch 100/500, current strategy strategy3\n",
      "running batch 200/500, current strategy strategy3\n",
      "running batch 300/500, current strategy strategy3\n",
      "running batch 400/500, current strategy strategy3\n",
      "running batch 500/500, current strategy strategy3\n"
     ]
    },
    {
     "name": "stderr",
     "output_type": "stream",
     "text": [
      "\r",
      " 80%|████████  | 4/5 [03:02<00:45, 45.53s/it]"
     ]
    },
    {
     "name": "stdout",
     "output_type": "stream",
     "text": [
      "acc on train 0.88228, on valid 0.8971\n",
      "running batch 100/500, current strategy strategy3\n",
      "running batch 200/500, current strategy strategy3\n",
      "running batch 300/500, current strategy strategy3\n",
      "running batch 400/500, current strategy strategy3\n",
      "running batch 500/500, current strategy strategy3\n"
     ]
    },
    {
     "name": "stderr",
     "output_type": "stream",
     "text": [
      "100%|██████████| 5/5 [03:47<00:00, 45.49s/it]\n"
     ]
    },
    {
     "name": "stdout",
     "output_type": "stream",
     "text": [
      "acc on train 0.88262, on valid 0.8972\n"
     ]
    },
    {
     "name": "stderr",
     "output_type": "stream",
     "text": [
      "\r",
      "  0%|          | 0/5 [00:00<?, ?it/s]"
     ]
    },
    {
     "name": "stdout",
     "output_type": "stream",
     "text": [
      "running batch 100/500, current strategy strategy4\n",
      "running batch 200/500, current strategy strategy4\n",
      "running batch 300/500, current strategy strategy4\n",
      "running batch 400/500, current strategy strategy4\n",
      "running batch 500/500, current strategy strategy4\n"
     ]
    },
    {
     "name": "stderr",
     "output_type": "stream",
     "text": [
      "\r",
      " 20%|██        | 1/5 [00:44<02:59, 44.99s/it]"
     ]
    },
    {
     "name": "stdout",
     "output_type": "stream",
     "text": [
      "acc on train 0.73756, on valid 0.7558\n",
      "running batch 100/500, current strategy strategy4\n",
      "running batch 200/500, current strategy strategy4\n",
      "running batch 300/500, current strategy strategy4\n",
      "running batch 400/500, current strategy strategy4\n",
      "running batch 500/500, current strategy strategy4\n"
     ]
    },
    {
     "name": "stderr",
     "output_type": "stream",
     "text": [
      "\r",
      " 40%|████      | 2/5 [01:29<02:14, 44.88s/it]"
     ]
    },
    {
     "name": "stdout",
     "output_type": "stream",
     "text": [
      "acc on train 0.71738, on valid 0.735\n",
      "running batch 100/500, current strategy strategy4\n",
      "running batch 200/500, current strategy strategy4\n",
      "running batch 300/500, current strategy strategy4\n",
      "running batch 400/500, current strategy strategy4\n",
      "running batch 500/500, current strategy strategy4\n"
     ]
    },
    {
     "name": "stderr",
     "output_type": "stream",
     "text": [
      "\r",
      " 60%|██████    | 3/5 [02:14<01:29, 44.86s/it]"
     ]
    },
    {
     "name": "stdout",
     "output_type": "stream",
     "text": [
      "acc on train 0.71706, on valid 0.7333\n",
      "running batch 100/500, current strategy strategy4\n",
      "running batch 200/500, current strategy strategy4\n",
      "running batch 300/500, current strategy strategy4\n",
      "running batch 400/500, current strategy strategy4\n",
      "running batch 500/500, current strategy strategy4\n"
     ]
    },
    {
     "name": "stderr",
     "output_type": "stream",
     "text": [
      "\r",
      " 80%|████████  | 4/5 [02:59<00:45, 45.03s/it]"
     ]
    },
    {
     "name": "stdout",
     "output_type": "stream",
     "text": [
      "acc on train 0.7177, on valid 0.734\n",
      "running batch 100/500, current strategy strategy4\n",
      "running batch 200/500, current strategy strategy4\n",
      "running batch 300/500, current strategy strategy4\n",
      "running batch 400/500, current strategy strategy4\n",
      "running batch 500/500, current strategy strategy4\n"
     ]
    },
    {
     "name": "stderr",
     "output_type": "stream",
     "text": [
      "100%|██████████| 5/5 [03:45<00:00, 45.02s/it]\n"
     ]
    },
    {
     "name": "stdout",
     "output_type": "stream",
     "text": [
      "acc on train 0.719, on valid 0.7346\n"
     ]
    },
    {
     "name": "stderr",
     "output_type": "stream",
     "text": [
      "\r",
      "  0%|          | 0/5 [00:00<?, ?it/s]"
     ]
    },
    {
     "name": "stdout",
     "output_type": "stream",
     "text": [
      "running batch 100/500, current strategy strategy5\n",
      "running batch 200/500, current strategy strategy5\n",
      "running batch 300/500, current strategy strategy5\n",
      "running batch 400/500, current strategy strategy5\n",
      "running batch 500/500, current strategy strategy5\n"
     ]
    },
    {
     "name": "stderr",
     "output_type": "stream",
     "text": [
      "\r",
      " 20%|██        | 1/5 [00:30<02:03, 30.91s/it]"
     ]
    },
    {
     "name": "stdout",
     "output_type": "stream",
     "text": [
      "acc on train 0.65562, on valid 0.6647\n",
      "running batch 100/500, current strategy strategy5\n",
      "running batch 200/500, current strategy strategy5\n",
      "running batch 300/500, current strategy strategy5\n",
      "running batch 400/500, current strategy strategy5\n",
      "running batch 500/500, current strategy strategy5\n"
     ]
    },
    {
     "name": "stderr",
     "output_type": "stream",
     "text": [
      "\r",
      " 40%|████      | 2/5 [01:01<01:32, 30.77s/it]"
     ]
    },
    {
     "name": "stdout",
     "output_type": "stream",
     "text": [
      "acc on train 0.64954, on valid 0.6596\n",
      "running batch 100/500, current strategy strategy5\n",
      "running batch 200/500, current strategy strategy5\n",
      "running batch 300/500, current strategy strategy5\n",
      "running batch 400/500, current strategy strategy5\n",
      "running batch 500/500, current strategy strategy5\n"
     ]
    },
    {
     "name": "stderr",
     "output_type": "stream",
     "text": [
      "\r",
      " 60%|██████    | 3/5 [01:32<01:01, 30.75s/it]"
     ]
    },
    {
     "name": "stdout",
     "output_type": "stream",
     "text": [
      "acc on train 0.64994, on valid 0.6595\n",
      "running batch 100/500, current strategy strategy5\n",
      "running batch 200/500, current strategy strategy5\n",
      "running batch 300/500, current strategy strategy5\n",
      "running batch 400/500, current strategy strategy5\n",
      "running batch 500/500, current strategy strategy5\n"
     ]
    },
    {
     "name": "stderr",
     "output_type": "stream",
     "text": [
      "\r",
      " 80%|████████  | 4/5 [02:02<00:30, 30.72s/it]"
     ]
    },
    {
     "name": "stdout",
     "output_type": "stream",
     "text": [
      "acc on train 0.65042, on valid 0.6602\n",
      "running batch 100/500, current strategy strategy5\n",
      "running batch 200/500, current strategy strategy5\n",
      "running batch 300/500, current strategy strategy5\n",
      "running batch 400/500, current strategy strategy5\n",
      "running batch 500/500, current strategy strategy5\n"
     ]
    },
    {
     "name": "stderr",
     "output_type": "stream",
     "text": [
      "100%|██████████| 5/5 [02:33<00:00, 30.74s/it]\n"
     ]
    },
    {
     "name": "stdout",
     "output_type": "stream",
     "text": [
      "acc on train 0.65066, on valid 0.6598\n"
     ]
    },
    {
     "name": "stderr",
     "output_type": "stream",
     "text": [
      "\r",
      "  0%|          | 0/5 [00:00<?, ?it/s]"
     ]
    },
    {
     "name": "stdout",
     "output_type": "stream",
     "text": [
      "running batch 100/500, current strategy strategy6\n",
      "running batch 200/500, current strategy strategy6\n",
      "running batch 300/500, current strategy strategy6\n",
      "running batch 400/500, current strategy strategy6\n",
      "running batch 500/500, current strategy strategy6\n"
     ]
    },
    {
     "name": "stderr",
     "output_type": "stream",
     "text": [
      "\r",
      " 20%|██        | 1/5 [00:30<02:03, 30.78s/it]"
     ]
    },
    {
     "name": "stdout",
     "output_type": "stream",
     "text": [
      "acc on train 0.86678, on valid 0.8853\n",
      "running batch 100/500, current strategy strategy6\n",
      "running batch 200/500, current strategy strategy6\n",
      "running batch 300/500, current strategy strategy6\n",
      "running batch 400/500, current strategy strategy6\n",
      "running batch 500/500, current strategy strategy6\n"
     ]
    },
    {
     "name": "stderr",
     "output_type": "stream",
     "text": [
      "\r",
      " 40%|████      | 2/5 [01:01<01:32, 30.85s/it]"
     ]
    },
    {
     "name": "stdout",
     "output_type": "stream",
     "text": [
      "acc on train 0.88078, on valid 0.897\n",
      "running batch 100/500, current strategy strategy6\n",
      "running batch 200/500, current strategy strategy6\n",
      "running batch 300/500, current strategy strategy6\n",
      "running batch 400/500, current strategy strategy6\n",
      "running batch 500/500, current strategy strategy6\n"
     ]
    },
    {
     "name": "stderr",
     "output_type": "stream",
     "text": [
      "\r",
      " 60%|██████    | 3/5 [01:32<01:01, 30.76s/it]"
     ]
    },
    {
     "name": "stdout",
     "output_type": "stream",
     "text": [
      "acc on train 0.88162, on valid 0.8979\n",
      "running batch 100/500, current strategy strategy6\n",
      "running batch 200/500, current strategy strategy6\n",
      "running batch 300/500, current strategy strategy6\n",
      "running batch 400/500, current strategy strategy6\n",
      "running batch 500/500, current strategy strategy6\n"
     ]
    },
    {
     "name": "stderr",
     "output_type": "stream",
     "text": [
      "\r",
      " 80%|████████  | 4/5 [02:03<00:30, 30.77s/it]"
     ]
    },
    {
     "name": "stdout",
     "output_type": "stream",
     "text": [
      "acc on train 0.88202, on valid 0.8978\n",
      "running batch 100/500, current strategy strategy6\n",
      "running batch 200/500, current strategy strategy6\n",
      "running batch 300/500, current strategy strategy6\n",
      "running batch 400/500, current strategy strategy6\n",
      "running batch 500/500, current strategy strategy6\n"
     ]
    },
    {
     "name": "stderr",
     "output_type": "stream",
     "text": [
      "100%|██████████| 5/5 [02:33<00:00, 30.75s/it]\n"
     ]
    },
    {
     "name": "stdout",
     "output_type": "stream",
     "text": [
      "acc on train 0.8822, on valid 0.8973\n"
     ]
    },
    {
     "name": "stderr",
     "output_type": "stream",
     "text": [
      "\r",
      "  0%|          | 0/5 [00:00<?, ?it/s]"
     ]
    },
    {
     "name": "stdout",
     "output_type": "stream",
     "text": [
      "running batch 100/500, current strategy strategy7\n",
      "running batch 200/500, current strategy strategy7\n",
      "running batch 300/500, current strategy strategy7\n",
      "running batch 400/500, current strategy strategy7\n",
      "running batch 500/500, current strategy strategy7\n"
     ]
    },
    {
     "name": "stderr",
     "output_type": "stream",
     "text": [
      "\r",
      " 20%|██        | 1/5 [00:31<02:04, 31.13s/it]"
     ]
    },
    {
     "name": "stdout",
     "output_type": "stream",
     "text": [
      "acc on train 0.77514, on valid 0.795\n",
      "running batch 100/500, current strategy strategy7\n",
      "running batch 200/500, current strategy strategy7\n",
      "running batch 300/500, current strategy strategy7\n",
      "running batch 400/500, current strategy strategy7\n",
      "running batch 500/500, current strategy strategy7\n"
     ]
    },
    {
     "name": "stderr",
     "output_type": "stream",
     "text": [
      "\r",
      " 40%|████      | 2/5 [01:02<01:33, 31.15s/it]"
     ]
    },
    {
     "name": "stdout",
     "output_type": "stream",
     "text": [
      "acc on train 0.8759, on valid 0.8904\n",
      "running batch 100/500, current strategy strategy7\n",
      "running batch 200/500, current strategy strategy7\n",
      "running batch 300/500, current strategy strategy7\n",
      "running batch 400/500, current strategy strategy7\n",
      "running batch 500/500, current strategy strategy7\n"
     ]
    },
    {
     "name": "stderr",
     "output_type": "stream",
     "text": [
      "\r",
      " 60%|██████    | 3/5 [01:33<01:02, 31.05s/it]"
     ]
    },
    {
     "name": "stdout",
     "output_type": "stream",
     "text": [
      "acc on train 0.8931, on valid 0.9061\n",
      "running batch 100/500, current strategy strategy7\n",
      "running batch 200/500, current strategy strategy7\n",
      "running batch 300/500, current strategy strategy7\n",
      "running batch 400/500, current strategy strategy7\n",
      "running batch 500/500, current strategy strategy7\n"
     ]
    },
    {
     "name": "stderr",
     "output_type": "stream",
     "text": [
      "\r",
      " 80%|████████  | 4/5 [02:04<00:31, 31.07s/it]"
     ]
    },
    {
     "name": "stdout",
     "output_type": "stream",
     "text": [
      "acc on train 0.8981, on valid 0.91\n",
      "running batch 100/500, current strategy strategy7\n",
      "running batch 200/500, current strategy strategy7\n",
      "running batch 300/500, current strategy strategy7\n",
      "running batch 400/500, current strategy strategy7\n",
      "running batch 500/500, current strategy strategy7\n"
     ]
    },
    {
     "name": "stderr",
     "output_type": "stream",
     "text": [
      "100%|██████████| 5/5 [02:35<00:00, 31.09s/it]\n"
     ]
    },
    {
     "name": "stdout",
     "output_type": "stream",
     "text": [
      "acc on train 0.89964, on valid 0.912\n"
     ]
    },
    {
     "name": "stderr",
     "output_type": "stream",
     "text": [
      "\r",
      "  0%|          | 0/5 [00:00<?, ?it/s]"
     ]
    },
    {
     "name": "stdout",
     "output_type": "stream",
     "text": [
      "running batch 100/500, current strategy strategy8\n",
      "running batch 200/500, current strategy strategy8\n",
      "running batch 300/500, current strategy strategy8\n",
      "running batch 400/500, current strategy strategy8\n",
      "running batch 500/500, current strategy strategy8\n"
     ]
    },
    {
     "name": "stderr",
     "output_type": "stream",
     "text": [
      "\r",
      " 20%|██        | 1/5 [00:57<03:50, 57.62s/it]"
     ]
    },
    {
     "name": "stdout",
     "output_type": "stream",
     "text": [
      "acc on train 0.86554, on valid 0.8846\n",
      "running batch 100/500, current strategy strategy8\n",
      "running batch 200/500, current strategy strategy8\n",
      "running batch 300/500, current strategy strategy8\n",
      "running batch 400/500, current strategy strategy8\n",
      "running batch 500/500, current strategy strategy8\n"
     ]
    },
    {
     "name": "stderr",
     "output_type": "stream",
     "text": [
      "\r",
      " 40%|████      | 2/5 [01:53<02:50, 56.68s/it]"
     ]
    },
    {
     "name": "stdout",
     "output_type": "stream",
     "text": [
      "acc on train 0.86424, on valid 0.8809\n",
      "running batch 100/500, current strategy strategy8\n",
      "running batch 200/500, current strategy strategy8\n",
      "running batch 300/500, current strategy strategy8\n",
      "running batch 400/500, current strategy strategy8\n",
      "running batch 500/500, current strategy strategy8\n"
     ]
    },
    {
     "name": "stderr",
     "output_type": "stream",
     "text": [
      "\r",
      " 60%|██████    | 3/5 [02:49<01:52, 56.32s/it]"
     ]
    },
    {
     "name": "stdout",
     "output_type": "stream",
     "text": [
      "acc on train 0.86436, on valid 0.8805\n",
      "running batch 100/500, current strategy strategy8\n",
      "running batch 200/500, current strategy strategy8\n",
      "running batch 300/500, current strategy strategy8\n",
      "running batch 400/500, current strategy strategy8\n",
      "running batch 500/500, current strategy strategy8\n"
     ]
    },
    {
     "name": "stderr",
     "output_type": "stream",
     "text": [
      "\r",
      " 80%|████████  | 4/5 [03:45<00:56, 56.14s/it]"
     ]
    },
    {
     "name": "stdout",
     "output_type": "stream",
     "text": [
      "acc on train 0.86466, on valid 0.881\n",
      "running batch 100/500, current strategy strategy8\n",
      "running batch 200/500, current strategy strategy8\n",
      "running batch 300/500, current strategy strategy8\n",
      "running batch 400/500, current strategy strategy8\n",
      "running batch 500/500, current strategy strategy8\n"
     ]
    },
    {
     "name": "stderr",
     "output_type": "stream",
     "text": [
      "100%|██████████| 5/5 [04:41<00:00, 56.23s/it]"
     ]
    },
    {
     "name": "stdout",
     "output_type": "stream",
     "text": [
      "acc on train 0.86492, on valid 0.8805\n"
     ]
    },
    {
     "name": "stderr",
     "output_type": "stream",
     "text": [
      "\n"
     ]
    },
    {
     "data": {
      "text/plain": [
       "<Figure size 432x288 with 0 Axes>"
      ]
     },
     "metadata": {},
     "output_type": "display_data"
    }
   ],
   "source": [
    "#定义一些备选策略\n",
    "strategydic = {\n",
    "    'strategy1':{\n",
    "        'dimensions':[28*28,512,10],\n",
    "        'lr':0.1,\n",
    "        'lambda':0.01\n",
    "    },\n",
    "    'strategy2':{\n",
    "        'dimensions':[28*28,256,10],\n",
    "        'lr':0.15,\n",
    "        'lambda':0.01\n",
    "    },\n",
    "    'strategy3':{\n",
    "        'dimensions':[28*28,100,10],\n",
    "        'lr':0.15,\n",
    "        'lambda':0.02\n",
    "    },\n",
    "    'strategy4':{\n",
    "        'dimensions':[28*28,100,10],\n",
    "        'lr':0.25,\n",
    "        'lambda':0.05\n",
    "    },\n",
    "    'strategy5':{\n",
    "        'dimensions':[28*28,50,10],\n",
    "        'lr':0.25,\n",
    "        'lambda':0.05\n",
    "    },\n",
    "    'strategy6':{\n",
    "        'dimensions':[28*28,50,10],\n",
    "        'lr':0.2,\n",
    "        'lambda':0.02\n",
    "    },\n",
    "    'strategy7':{\n",
    "        'dimensions':[28*28,50,10],\n",
    "        'lr':0.15,\n",
    "        'lambda':0.01\n",
    "    },\n",
    "    'strategy8':{\n",
    "        'dimensions':[28*28,150,10],\n",
    "        'lr':0.25,\n",
    "        'lambda':0.03\n",
    "    }\n",
    "}\n",
    "current_epoch=0\n",
    "searchtrain_accu_list=[]\n",
    "searchvalid_accu_list=[]\n",
    "bestperformance = {}\n",
    "#超参数\n",
    "epoch_num=5\n",
    "batch_size=100\n",
    "for strategy in strategydic:\n",
    "    dim = strategydic[strategy]['dimensions']\n",
    "    lr = strategydic[strategy]['lr']\n",
    "    lambd = strategydic[strategy]['lambda']\n",
    "    trainaclist = []\n",
    "    validaclist = []\n",
    "    train_acscore,valid_maxs = 0,0\n",
    "    net = Net(dim,distribution,activation,[])\n",
    "    net.init_parameters()\n",
    "    for epoch_ in tqdm(range(epoch_num)):\n",
    "        lr = decay_lr(lr)\n",
    "        for i in range(train_num//batch_size):\n",
    "            if i%100==99:\n",
    "                print('running batch {}/{}, current strategy {}'.format(i+1,train_num//batch_size,strategy))\n",
    "            grad_tmp = []\n",
    "            grad_tmp=train_batch(i,net.parameters,lambd)\n",
    "            net.parameters=update_parameters(net.parameters,grad_tmp,lr)\n",
    "        current_epoch+=1\n",
    "        train_acscore = train_accuracy(net.parameters)\n",
    "        valid_acscore = valid_accuracy(net.parameters)\n",
    "        print('acc on train {}, on valid {}'.format(train_acscore,valid_acscore))\n",
    "        if valid_acscore>valid_maxs:\n",
    "            save_model('Best_model_'+strategy,net.parameters) #保存验证集上表现最好的模型\n",
    "            valid_maxs = valid_acscore\n",
    "        trainaclist.append(train_acscore)\n",
    "        validaclist.append(valid_acscore)\n",
    "    searchtrain_accu_list.append(trainaclist)\n",
    "    searchvalid_accu_list.append(validaclist)\n",
    "    bestperformance[strategy] = {}\n",
    "    bestperformance[strategy]['train'] = max(trainaclist)\n",
    "    bestperformance[strategy]['valid'] = max(validaclist)"
   ]
  },
  {
   "cell_type": "code",
   "execution_count": 198,
   "metadata": {},
   "outputs": [
    {
     "data": {
      "text/plain": [
       "<Figure size 432x288 with 0 Axes>"
      ]
     },
     "metadata": {},
     "output_type": "display_data"
    },
    {
     "data": {
      "text/plain": [
       "<Figure size 720x432 with 0 Axes>"
      ]
     },
     "metadata": {},
     "output_type": "display_data"
    }
   ],
   "source": [
    "color = ['#9ACD32','#FFFF00','#EE82EE','#00CED1','#9932CC','#2F4F4F','#FF1493','b']\n",
    "#可视化\n",
    "count = 0\n",
    "plt.clf()\n",
    "plt.figure(figsize=(10, 6))\n",
    "for s in strategydic:\n",
    "    plt.plot(searchvalid_accu_list[count], c=color[count], linestyle = '-.',label=s+'('+str(round(bestperformance[s]['valid'],2))+')')\n",
    "    count+=1\n",
    "plt.legend()\n",
    "plt.suptitle('Performance on Validation', fontsize=16, fontweight='bold')\n",
    "plt.style.use('seaborn-darkgrid')\n",
    "plt.xlabel('Epoch')\n",
    "plt.ylabel('Accuracy')\n",
    "plt.savefig('searchonvalid.png',dpi = 200)\n",
    "plt.clf()\n",
    "count = 0\n",
    "for s in strategydic:\n",
    "    plt.plot(searchtrain_accu_list[count], c=color[count], linestyle = '-.',label=s+'('+str(round(bestperformance[s]['train'],2))+')')\n",
    "    count+=1\n",
    "plt.legend()\n",
    "plt.suptitle('Performance on Training', fontsize=16, fontweight='bold')\n",
    "plt.style.use('seaborn-darkgrid')\n",
    "plt.xlabel('Epoch')\n",
    "plt.ylabel('Accuracy')\n",
    "plt.savefig('searchontrain.png',dpi = 200)\n",
    "plt.clf()"
   ]
  },
  {
   "cell_type": "markdown",
   "metadata": {},
   "source": [
    "# 最优模型测试集表现"
   ]
  },
  {
   "cell_type": "code",
   "execution_count": 71,
   "metadata": {},
   "outputs": [
    {
     "data": {
      "text/plain": [
       "<function BufferedReader.close>"
      ]
     },
     "execution_count": 71,
     "metadata": {},
     "output_type": "execute_result"
    }
   ],
   "source": [
    "#在参数搜索中，strategy1模型在验证集上表现最佳，因此将strategy1的模型作为最优模型\n",
    "f = open('Best_model_strategy1.pkl', 'rb') #加载最优模型\n",
    "param = pickle.load(f)\n",
    "f.close"
   ]
  },
  {
   "cell_type": "code",
   "execution_count": 84,
   "metadata": {},
   "outputs": [
    {
     "name": "stdout",
     "output_type": "stream",
     "text": [
      "Accuracy on Test set:0.92\n"
     ]
    }
   ],
   "source": [
    "#实例化最优模型\n",
    "activation=[tanh,softmax]\n",
    "distribution=[\n",
    "    {'b':[0,0]},\n",
    "    {'b':[0,0],'w':[-1,1]},\n",
    "    {'b':[0,0],'w':[-1,1]}\n",
    "]\n",
    "net = Net([28*28,512,10],distribution,activation,param)\n",
    "#测试集预测\n",
    "correctlist=[net.forward(test_img[img_i]).argmax()==test_lab[img_i] for img_i in range(test_num)]\n",
    "testacc = round(correctlist.count(True)/len(correctlist),2)\n",
    "print(\"Accuracy on Test set:{}\".format(testacc))"
   ]
  },
  {
   "cell_type": "code",
   "execution_count": 93,
   "metadata": {},
   "outputs": [
    {
     "name": "stdout",
     "output_type": "stream",
     "text": [
      "label : 7\n",
      "predict:7\n"
     ]
    },
    {
     "data": {
      "image/png": "[encoded data removed]",
      "text/plain": [
       "<Figure size 432x288 with 1 Axes>"
      ]
     },
     "metadata": {},
     "output_type": "display_data"
    }
   ],
   "source": [
    "#随机查看测试集表现\n",
    "test_index = np.random.randint(1000)\n",
    "show_test(test_index)\n",
    "predict_result = net.forward(test_img[test_index])\n",
    "print(\"predict:{}\".format(predict_result.argmax()))"
   ]
  },
  {
   "cell_type": "markdown",
   "metadata": {},
   "source": [
    "# 网络参数可视化"
   ]
  },
  {
   "cell_type": "code",
   "execution_count": 186,
   "metadata": {},
   "outputs": [],
   "source": [
    "#定义绘图函数\n",
    "def param_show(img,i,layer,dimen):\n",
    "    img = Image.fromarray(np.uint8(img))\n",
    "    ax = plt.subplot(2,5,i)\n",
    "    plt.imshow(img, cmap='gray')  # 转化成灰度显示\n",
    "    ax.set_title(layer+','+'Dimemsion'+str(dimen))"
   ]
  },
  {
   "cell_type": "code",
   "execution_count": 192,
   "metadata": {},
   "outputs": [
    {
     "data": {
      "text/plain": [
       "<Figure size 432x288 with 0 Axes>"
      ]
     },
     "metadata": {},
     "output_type": "display_data"
    },
    {
     "data": {
      "image/png": "[encoded data removed]",
      "text/plain": [
       "<Figure size 1080x432 with 10 Axes>"
      ]
     },
     "metadata": {},
     "output_type": "display_data"
    }
   ],
   "source": [
    "#第一层网络参数可视化，由于第一层共512维，难以全部可视化，抽取10个维度画图。\n",
    "plt.clf()\n",
    "plt.figure(figsize = (15,6))\n",
    "for i in range(10):\n",
    "    vec = param[1]['w'][:,50*i]\n",
    "    vec = vec.reshape(28,28)\n",
    "    vec = vec * 255 + 128\n",
    "    param_show(vec,i+1,'Layer1',50*i)\n",
    "plt.savefig('visualofLayer1.png',dpi = 200)"
   ]
  },
  {
   "cell_type": "code",
   "execution_count": 196,
   "metadata": {},
   "outputs": [
    {
     "data": {
      "text/plain": [
       "<Figure size 432x288 with 0 Axes>"
      ]
     },
     "metadata": {},
     "output_type": "display_data"
    },
    {
     "data": {
      "image/png": "[encoded data removed]",
      "text/plain": [
       "<Figure size 1080x288 with 10 Axes>"
      ]
     },
     "metadata": {},
     "output_type": "display_data"
    }
   ],
   "source": [
    "#第二层网络参数可视化，共10个维度。\n",
    "plt.clf()\n",
    "plt.figure(figsize = (15,4))\n",
    "for i in range(10):\n",
    "    vec = param[2]['w'][:,i]\n",
    "    vec = vec.reshape(16,32)\n",
    "    vec = vec * 255 + 128\n",
    "    param_show(vec,i+1,'Layer2',i)\n",
    "plt.savefig('visualofLayer2.png',dpi = 200)"
   ]
  }
 ],
 "metadata": {
  "kernelspec": {
   "display_name": "Python 3",
   "language": "python",
   "name": "python3"
  },
  "language_info": {
   "codemirror_mode": {
    "name": "ipython",
    "version": 3
   },
   "file_extension": ".py",
   "mimetype": "text/x-python",
   "name": "python",
   "nbconvert_exporter": "python",
   "pygments_lexer": "ipython3",
   "version": "3.6.5"
  }
 },
 "nbformat": 4,
 "nbformat_minor": 5
}
